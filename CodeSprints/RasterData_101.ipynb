{
 "cells": [
  {
   "cell_type": "markdown",
   "metadata": {},
   "source": [
    "## Raster data 101\n",
    "In this lesson you will learn more about working with two types of raster data: a LiDAR derived digital elevation model (DEM), and high-resolution 4-band orthoimagery collected by the USDA National Agricultural Imagery Program (NAIP) from aircraft. \n",
    "\n",
    "We'll be using a raster virtualization package called *rasterio*. This package allows us to use numpy matrix arithmatic and algebraic functions on raster data.\n",
    "\n",
    "If you want to read more about how lidar data are used to derive raster based surface models, you can check out this chapter on lidar remote sensing data and the various raster data products derived from lidar data: https://www.earthdatascience.org/courses/use-data-open-source-python/data-stories/what-is-lidar-data/ \n",
    "\n",
    "If you are interested in learning more about, or accessing, NAIP data, check here: https://www.fsa.usda.gov/programs-and-services/aerial-photography/imagery-programs/naip-imagery/\n",
    "\n",
    "### Adapted from:\n",
    "**Lesson 2. Open, Plot and Explore Raster Data with Python\n",
    "*by Leah Wasser, Chris Holdgraf, Martha Morrissey***\n",
    "https://www.earthdatascience.org/courses/use-data-open-source-python/intro-raster-data-python/fundamentals-raster-data/open-lidar-raster-python/\n",
    "\n",
    "**Working with Raster Data\n",
    "*by Zia U Ahmed***\n",
    "https://zia207.github.io/geospatial-python.io/lesson_06_working-with-raster-data.html\n"
   ]
  },
  {
   "cell_type": "code",
   "execution_count": 2,
   "metadata": {},
   "outputs": [],
   "source": [
    "# Import necessary packages\n",
    "import os\n",
    "import matplotlib.pyplot as plt\n",
    "import rasterio as rio\n",
    "from rasterio.plot import plotting_extent\n",
    "import numpy as np\n",
    "import earthpy as et\n",
    "import earthpy.plot as ep"
   ]
  },
  {
   "cell_type": "code",
   "execution_count": 3,
   "metadata": {},
   "outputs": [
    {
     "name": "stdout",
     "output_type": "stream",
     "text": [
      "Downloading from https://ndownloader.figshare.com/files/16371473\n",
      "Extracted output to C:\\Users\\mabranno\\earth-analytics\\data\\colorado-flood\\.\n"
     ]
    }
   ],
   "source": [
    "# Get data and set working directory\n",
    "et.data.get_data(\"colorado-flood\")\n",
    "os.chdir(os.path.join(et.io.HOME, 'earth-analytics', 'data'))"
   ]
  },
  {
   "cell_type": "markdown",
   "metadata": {},
   "source": [
    "Below, you define the path to a lidar derived digital elevation model (DEM) that was created using NEON (the National Ecological Observatory Network) data. Data Tip: DEM’s are also sometimes referred to as DTM (Digital Terrain Model or DTM)."
   ]
  },
  {
   "cell_type": "code",
   "execution_count": 4,
   "metadata": {},
   "outputs": [],
   "source": [
    "# Define relative path to file\n",
    "dem_pre_path = os.path.join(\"colorado-flood\",\n",
    "                            \"spatial\",\n",
    "                            \"boulder-leehill-rd\",\n",
    "                            \"pre-flood\",\n",
    "                            \"lidar\",\n",
    "                            \"pre_DTM.tif\")\n",
    "\n",
    "# Open the file using a context manager (\"with rio.open\" statement)\n",
    "with rio.open(dem_pre_path) as dem_src:\n",
    "    dtm_pre_arr = dem_src.read(1)"
   ]
  },
  {
   "cell_type": "markdown",
   "metadata": {},
   "source": [
    "You may notice that the code above used to open a raster file is a bit more complex than the code that you used to open vector files (shapefiles) with geopandas or tabular data with pandas. The with rio.open() statement creates what is called a *context manager* for opening files. This allows you to create a connection to the file without modifying the file itself. \n",
    "\n",
    "You can learn more about context managers in the raster data in python chapter in the earth data science intermediate textbook\n",
    "\n",
    "### Explore Raster Data Values & Structure\n",
    "Next, have a look at the data. Notice that the data structure of type() of Python object returned by rasterio is a numpy array. Numpy arrays are an efficient way to store and work with raster data in python. \n",
    "\n",
    "You can learn more about working with numpy arrays in the numpy array chapter of the introduction to earth data science textbook: https://www.earthdatascience.org/courses/intro-to-earth-data-science/scientific-data-structures-python/numpy-arrays/"
   ]
  },
  {
   "cell_type": "code",
   "execution_count": 5,
   "metadata": {},
   "outputs": [
    {
     "data": {
      "text/plain": [
       "numpy.ndarray"
      ]
     },
     "execution_count": 5,
     "metadata": {},
     "output_type": "execute_result"
    }
   ],
   "source": [
    "#What object type did we create with that call?\n",
    "type(dtm_pre_arr)"
   ]
  },
  {
   "cell_type": "code",
   "execution_count": 6,
   "metadata": {},
   "outputs": [
    {
     "data": {
      "text/plain": [
       "(2000, 4000)"
      ]
     },
     "execution_count": 6,
     "metadata": {},
     "output_type": "execute_result"
    }
   ],
   "source": [
    "#What are the dimensions of our array?\n",
    "dtm_pre_arr.shape"
   ]
  },
  {
   "cell_type": "markdown",
   "metadata": {},
   "source": [
    "When you open raster data using rasterio you are creating a numpy array. Numpy is an efficient way to work with and process raster format data. You can plot your data using earthpy plot_bands() which takes a numpy array as an input and generates a plot."
   ]
  },
  {
   "cell_type": "code",
   "execution_count": 7,
   "metadata": {},
   "outputs": [
    {
     "data": {
      "image/png": "[encoded data removed]",
      "text/plain": [
       "<Figure size 864x864 with 2 Axes>"
      ]
     },
     "metadata": {
      "needs_background": "light"
     },
     "output_type": "display_data"
    }
   ],
   "source": [
    "# Plot your data using earthpy\n",
    "ep.plot_bands(dtm_pre_arr,\n",
    "              title=\"Lidar Digital Elevation Model (DEM) \\n Boulder Flood 2013\",\n",
    "              cmap=\"Greys\")\n",
    "\n",
    "plt.show()"
   ]
  },
  {
   "cell_type": "markdown",
   "metadata": {},
   "source": [
    "The data above should represent terrain model data. However, the range of values is not what is expected. These data are for Boulder, Colorado where the elevation may range from 1000-3000m.\n",
    "\n",
    "There may be some outlier values in the data that may need to be addressed. Below you check out the min and max values of the data."
   ]
  },
  {
   "cell_type": "code",
   "execution_count": 8,
   "metadata": {},
   "outputs": [
    {
     "name": "stdout",
     "output_type": "stream",
     "text": [
      "the minimum raster value is:  -3.4028235e+38\n",
      "the maximum raster value is:  2087.43\n"
     ]
    }
   ],
   "source": [
    "print(\"the minimum raster value is: \", dtm_pre_arr.min())\n",
    "print(\"the maximum raster value is: \", dtm_pre_arr.max())"
   ]
  },
  {
   "cell_type": "code",
   "execution_count": 9,
   "metadata": {},
   "outputs": [
    {
     "data": {
      "image/png": "[encoded data removed]",
      "text/plain": [
       "<Figure size 720x432 with 1 Axes>"
      ]
     },
     "metadata": {
      "needs_background": "light"
     },
     "output_type": "display_data"
    }
   ],
   "source": [
    "# A histogram can also be helpful to look at the range of values in your data\n",
    "# What do you notice about the histogram below?\n",
    "ep.hist(dtm_pre_arr,\n",
    "        figsize=(10, 6))\n",
    "plt.show()"
   ]
  },
  {
   "cell_type": "markdown",
   "metadata": {},
   "source": [
    "Histogram for your LiDAR DTM. Notice the number of values that are below 0. This suggests that there may be no data values in the data."
   ]
  },
  {
   "cell_type": "markdown",
   "metadata": {},
   "source": [
    "### Raster Data Exploration - Min and Max Values\n",
    "Looking at the minimum value of the data, there is one of two things going on that need to be fixed:\n",
    "\n",
    "1. There may be no data values in the data with a negative value that are skewing your plot colors\n",
    "2. There also could be outlier data in your raster\n",
    "\n",
    "You can explore the first option - that there are no data values by reading in the data and masking no data values using rasterio. To do this, you will use the masked=True parameter for the .read() function - like this:"
   ]
  },
  {
   "cell_type": "code",
   "execution_count": 10,
   "metadata": {},
   "outputs": [],
   "source": [
    "# Read in your data and mask the no data values\n",
    "with rio.open(dem_pre_path) as dem_src:\n",
    "    # Masked=True will mask all no data values\n",
    "    dtm_pre_arr = dem_src.read(1, masked=True)"
   ]
  },
  {
   "cell_type": "markdown",
   "metadata": {},
   "source": [
    "Notice that now the minimum value looks more like an elevation value (which should most often not be negative)."
   ]
  },
  {
   "cell_type": "code",
   "execution_count": 11,
   "metadata": {},
   "outputs": [
    {
     "data": {
      "image/png": "[encoded data removed]",
      "text/plain": [
       "<Figure size 720x432 with 1 Axes>"
      ]
     },
     "metadata": {
      "needs_background": "light"
     },
     "output_type": "display_data"
    }
   ],
   "source": [
    "# A histogram can also be helpful to look at the range of values in your data\n",
    "ep.hist(dtm_pre_arr,\n",
    "        figsize=(10, 6),\n",
    "        title=\"Histogram of the Data with No Data Values Removed\")\n",
    "plt.show()"
   ]
  },
  {
   "cell_type": "markdown",
   "metadata": {},
   "source": [
    "Plot your data again to see how it looks:"
   ]
  },
  {
   "cell_type": "code",
   "execution_count": 12,
   "metadata": {},
   "outputs": [
    {
     "data": {
      "image/png": "[encoded data removed]",
      "text/plain": [
       "<Figure size 864x864 with 2 Axes>"
      ]
     },
     "metadata": {
      "needs_background": "light"
     },
     "output_type": "display_data"
    }
   ],
   "source": [
    "# Plot data using earthpy\n",
    "ep.plot_bands(dtm_pre_arr,\n",
    "              title=\"Lidar Digital Elevation Model (DEM) \\n Boulder Flood 2013\",\n",
    "              cmap=\"Greys\")\n",
    "\n",
    "plt.show()"
   ]
  },
  {
   "cell_type": "markdown",
   "metadata": {},
   "source": [
    "### TASK 1: Look closely at the plot above. What do you think the colors and numbers represent in the plot? What units do the numbers represents? Double click on the text in this box to enter your answer."
   ]
  },
  {
   "cell_type": "markdown",
   "metadata": {},
   "source": [
    "### Rasterio Reads Files into Python as Numpy Arrays\n",
    "When you call src.read() above, rasterio is reading in the data as a numpy array. A numpy array is a matrix of values. Numpy arrays are an efficient structure for working with large and potentially multi-dimensional (layered) matrices.\n",
    "\n",
    "The numpy array below is type numpy.ma.core.MaskedArray. It is a masked array because you chose to mask the no data values in your data. Masking ensures that when you plot and perform other math operations on your data, those no data values are not included in the operations.\n",
    "\n",
    "Learn more about working with numpy arrays: https://www.earthdatascience.org/courses/intro-to-earth-data-science/scientific-data-structures-python/numpy-arrays/ "
   ]
  },
  {
   "cell_type": "code",
   "execution_count": 13,
   "metadata": {},
   "outputs": [
    {
     "name": "stdout",
     "output_type": "stream",
     "text": [
      "Numpy Array Shape: (2000, 4000)\n",
      "Object type: <class 'numpy.ma.core.MaskedArray'>\n"
     ]
    }
   ],
   "source": [
    "with rio.open(dem_pre_path) as dem_src:\n",
    "    lidar_dem_im = dem_src.read(1, masked=True)\n",
    "\n",
    "print(\"Numpy Array Shape:\", lidar_dem_im.shape)\n",
    "print(\"Object type:\", type(lidar_dem_im))"
   ]
  },
  {
   "cell_type": "markdown",
   "metadata": {},
   "source": [
    "A numpy array does not by default store spatial information. However, your raster data is spatial - it represents a location on the earth’s surface.\n",
    "\n",
    "You can acccess the spatial metadata within the context manager using dem_src.profile. \n",
    "\n",
    "Notice that the .profile object contains information including the no data values for your data, the shape, the file type and even the coordinate reference system. \n",
    "\n",
    "You will learn more about raster metadata in our next class, but also see this chapter: https://www.earthdatascience.org/courses/use-data-open-source-python/intro-raster-data-python/fundamentals-raster-data/raster-metadata-in-python/"
   ]
  },
  {
   "cell_type": "code",
   "execution_count": 14,
   "metadata": {},
   "outputs": [
    {
     "data": {
      "text/plain": [
       "{'driver': 'GTiff', 'dtype': 'float32', 'nodata': -3.4028234663852886e+38, 'width': 4000, 'height': 2000, 'count': 1, 'crs': CRS.from_dict(init='epsg:32613'), 'transform': Affine(1.0, 0.0, 472000.0,\n",
       "       0.0, -1.0, 4436000.0), 'blockxsize': 128, 'blockysize': 128, 'tiled': True, 'compress': 'lzw', 'interleave': 'band'}"
      ]
     },
     "execution_count": 14,
     "metadata": {},
     "output_type": "execute_result"
    }
   ],
   "source": [
    "with rio.open(dem_pre_path) as dem_src:\n",
    "    lidar_dem_im = dem_src.read(1, masked=True)\n",
    "    # Create an object called lidar_dem_meta that contains the spatial metadata\n",
    "    lidar_dem_meta = dem_src.profile\n",
    "    #.profile brings in metadata you need to understand your data\n",
    "\n",
    "lidar_dem_meta"
   ]
  },
  {
   "cell_type": "markdown",
   "metadata": {},
   "source": [
    "### Context Managers to Open and Close File Connections\n",
    "The steps above represent the steps you need to open and plot a raster dataset using rasterio in python. The with rio.open() statement creates what is known as a context manager. A context manager allows you to open the data and work with it. Within the context manager, Python makes a temporary connection to the file that you are trying to open.\n",
    "```\n",
    "with rio.open(`file-path-here`) as file_src:\n",
    "    dtm_pre_arr = dem_src.read(1, masked=True)\n",
    "```\n",
    "To break this code down, the context manager has a few parts. First, it has a with statement. The with statement creates a connection to the file that you want to open. The default connection type is read only. This means that you can NOT modify that file by default. Not being able to modify the original data is a good thing because it prevents you from making unintended changes to your original data."
   ]
  },
  {
   "cell_type": "code",
   "execution_count": null,
   "metadata": {},
   "outputs": [],
   "source": [
    "# context manager does not make any changes to your data"
   ]
  },
  {
   "cell_type": "markdown",
   "metadata": {},
   "source": [
    "#### Notice that the first line of the context manager is not indented. It contains two parts\n",
    "\n",
    "1) rio.open(): This is the code that will open a connection to your .tif file using a path you provide.\n",
    "file_src: this is a rasterio reader object that you can use to read in the actual data. You can also use this object to access the metadata for the raster file.\n",
    "\n",
    "2) The second line of your with statement\n",
    "\n",
    "dtm_pre_arr = dem_src.read(1, masked=True)\n",
    "\n",
    "is indented. Any code that is indented directly below the with statement will become a part of the context manager. This code has direct access to the file_src object which is you recall above is the rasterio reader object.\n",
    "\n",
    "Opening and closing files using rasterio and context managers is efficient as it establishes a connection to the raster file rather than directly reading it into memory.\n",
    "\n",
    "Once you are done opening and reading in the data, the context manager closes that connection to the file. This efficiently ensures that the file won’t be modified later in your code."
   ]
  },
  {
   "cell_type": "markdown",
   "metadata": {},
   "source": [
    "You can get a better understanding of how the rasterio context manager works by taking a look at what it is doing line by line. Start by looking at the dem_pre_path object. Notice that this object is a path to the file pre_DEM.tif. The context manager needs to know where the file is that you want to open with Rasterio."
   ]
  },
  {
   "cell_type": "code",
   "execution_count": 15,
   "metadata": {},
   "outputs": [
    {
     "data": {
      "text/plain": [
       "'colorado-flood\\\\spatial\\\\boulder-leehill-rd\\\\pre-flood\\\\lidar\\\\pre_DTM.tif'"
      ]
     },
     "execution_count": 15,
     "metadata": {},
     "output_type": "execute_result"
    }
   ],
   "source": [
    "# Look at the path to your dem_pre file\n",
    "dem_pre_path"
   ]
  },
  {
   "cell_type": "markdown",
   "metadata": {},
   "source": [
    "Now use the dem_pre_path in the context manager to open and close your connection to the file. Notice that if you print the “src” object within the context manager (notice that the print statement is indented which is how you know that you are inside the context manager), the returl is an\n",
    "\n",
    "open DatasetReader\n",
    "\n",
    "The name of the reader is the path to your file. This means there is an open and active connection to the file."
   ]
  },
  {
   "cell_type": "code",
   "execution_count": 16,
   "metadata": {},
   "outputs": [
    {
     "name": "stdout",
     "output_type": "stream",
     "text": [
      "<open DatasetReader name='colorado-flood\\spatial\\boulder-leehill-rd\\pre-flood\\lidar\\pre_DTM.tif' mode='r'>\n"
     ]
    }
   ],
   "source": [
    "# Opening the file with the dem_pre_path\n",
    "# Notice here the src object is printed and returns an \"open\" DatasetReader object\n",
    "with rio.open(dem_pre_path) as src:\n",
    "    print(src)"
   ]
  },
  {
   "cell_type": "markdown",
   "metadata": {},
   "source": [
    "If you print that same src object outside of the context manager, notice that it is now a closed datasetReader object. It is closed because it is being called outside of the context manager. Once the connection is closed, you can no longer access the data. This is a good thing as it protects you from inadvertently modifying the file itself!"
   ]
  },
  {
   "cell_type": "code",
   "execution_count": 17,
   "metadata": {},
   "outputs": [
    {
     "name": "stdout",
     "output_type": "stream",
     "text": [
      "<closed DatasetReader name='colorado-flood\\spatial\\boulder-leehill-rd\\pre-flood\\lidar\\pre_DTM.tif' mode='r'>\n"
     ]
    }
   ],
   "source": [
    "# Note that the src object is now closed because it's not within the indented\n",
    "# part of the context manager above\n",
    "print(src)"
   ]
  },
  {
   "cell_type": "markdown",
   "metadata": {},
   "source": [
    "Now look at what .read() does. Below you use the context manager to both open the file and read it. See that the read() method, returns a numpy array that contains the raster cell values in your file."
   ]
  },
  {
   "cell_type": "code",
   "execution_count": 18,
   "metadata": {},
   "outputs": [
    {
     "data": {
      "text/plain": [
       "array([[-3.4028235e+38, -3.4028235e+38, -3.4028235e+38, ...,\n",
       "         1.6956300e+03,  1.6954199e+03,  1.6954299e+03],\n",
       "       [-3.4028235e+38, -3.4028235e+38, -3.4028235e+38, ...,\n",
       "         1.6956000e+03,  1.6955399e+03,  1.6953600e+03],\n",
       "       [-3.4028235e+38, -3.4028235e+38, -3.4028235e+38, ...,\n",
       "         1.6953800e+03,  1.6954399e+03,  1.6953700e+03],\n",
       "       ...,\n",
       "       [-3.4028235e+38, -3.4028235e+38, -3.4028235e+38, ...,\n",
       "         1.6814500e+03,  1.6813900e+03,  1.6812500e+03],\n",
       "       [-3.4028235e+38, -3.4028235e+38, -3.4028235e+38, ...,\n",
       "         1.6817200e+03,  1.6815699e+03,  1.6815599e+03],\n",
       "       [-3.4028235e+38, -3.4028235e+38, -3.4028235e+38, ...,\n",
       "         1.6818900e+03,  1.6818099e+03,  1.6817400e+03]], dtype=float32)"
      ]
     },
     "execution_count": 18,
     "metadata": {},
     "output_type": "execute_result"
    }
   ],
   "source": [
    "# Open the file using a context manager and get the values as a numpy array with .read()\n",
    "with rio.open(dem_pre_path) as dem_src:\n",
    "    dtm_pre_arr = dem_src.read(1)\n",
    "\n",
    "dtm_pre_arr"
   ]
  },
  {
   "cell_type": "markdown",
   "metadata": {},
   "source": [
    "Because you created an object within the context manager that contains those raster values as a numpy array, you can now access the data values without needing to have an open connection to your file. This ensures once again that you are not modifying your original file and that all connections to it are closed. You are now free to play with the numpy array and process your data!\n"
   ]
  },
  {
   "cell_type": "code",
   "execution_count": 19,
   "metadata": {},
   "outputs": [
    {
     "data": {
      "text/plain": [
       "array([[-3.4028235e+38, -3.4028235e+38, -3.4028235e+38, ...,\n",
       "         1.6956300e+03,  1.6954199e+03,  1.6954299e+03],\n",
       "       [-3.4028235e+38, -3.4028235e+38, -3.4028235e+38, ...,\n",
       "         1.6956000e+03,  1.6955399e+03,  1.6953600e+03],\n",
       "       [-3.4028235e+38, -3.4028235e+38, -3.4028235e+38, ...,\n",
       "         1.6953800e+03,  1.6954399e+03,  1.6953700e+03],\n",
       "       ...,\n",
       "       [-3.4028235e+38, -3.4028235e+38, -3.4028235e+38, ...,\n",
       "         1.6814500e+03,  1.6813900e+03,  1.6812500e+03],\n",
       "       [-3.4028235e+38, -3.4028235e+38, -3.4028235e+38, ...,\n",
       "         1.6817200e+03,  1.6815699e+03,  1.6815599e+03],\n",
       "       [-3.4028235e+38, -3.4028235e+38, -3.4028235e+38, ...,\n",
       "         1.6818900e+03,  1.6818099e+03,  1.6817400e+03]], dtype=float32)"
      ]
     },
     "execution_count": 19,
     "metadata": {},
     "output_type": "execute_result"
    }
   ],
   "source": [
    "# View numpy array of your data\n",
    "dtm_pre_arr"
   ]
  },
  {
   "cell_type": "markdown",
   "metadata": {},
   "source": [
    "You can use the .profile attribute to create an object with metadata on your raster image. The metadata object below contains information like the coordinate reference system and size of the raster image."
   ]
  },
  {
   "cell_type": "code",
   "execution_count": 20,
   "metadata": {},
   "outputs": [
    {
     "data": {
      "text/plain": [
       "{'driver': 'GTiff', 'dtype': 'float32', 'nodata': -3.4028234663852886e+38, 'width': 4000, 'height': 2000, 'count': 1, 'crs': CRS.from_dict(init='epsg:32613'), 'transform': Affine(1.0, 0.0, 472000.0,\n",
       "       0.0, -1.0, 4436000.0), 'blockxsize': 128, 'blockysize': 128, 'tiled': True, 'compress': 'lzw', 'interleave': 'band'}"
      ]
     },
     "execution_count": 20,
     "metadata": {},
     "output_type": "execute_result"
    }
   ],
   "source": [
    "with rio.open(dem_pre_path) as dem_src:\n",
    "    # Create an object called lidar_dem_meta that contains the spatial metadata\n",
    "    lidar_dem_meta = dem_src.profile\n",
    "\n",
    "lidar_dem_meta"
   ]
  },
  {
   "cell_type": "markdown",
   "metadata": {},
   "source": [
    "We're breaking our geotiff down into two parts: (a series of) arrays representing the data values for each pixel in our raster dataset, and the spatial metadata required to assign spatial coordiantes to this data."
   ]
  },
  {
   "cell_type": "markdown",
   "metadata": {},
   "source": [
    "## Raster calculations\n",
    "Often we are interested in deriving information from our data. Common examples could include scaling data (changing units, apply a log transform, subtracting the mean and dividing by the standard deviation, setting the min and max value to 0 and 1 respectively but preserving the distribution), setting unrealistic values to NAs (for example, cloud masking), or reclassifying data. The fact that our raster data exists as a numpy array makes these types of operations simple. "
   ]
  },
  {
   "cell_type": "code",
   "execution_count": 21,
   "metadata": {},
   "outputs": [],
   "source": [
    "# read in data and metadata through raster connection\n",
    "# MODIFY THIS CODE FOR TASK 3:\n",
    "with rio.open(dem_pre_path) as dem_src:\n",
    "    dem_data = dem_src.read(1)\n",
    "    dem_meta = dem_src.profile"
   ]
  },
  {
   "cell_type": "markdown",
   "metadata": {},
   "source": [
    "### TASK 2: dem_data above is reported in meters. Create a new raster, dem_feet, with units of feet:"
   ]
  },
  {
   "cell_type": "code",
   "execution_count": 22,
   "metadata": {},
   "outputs": [
    {
     "name": "stderr",
     "output_type": "stream",
     "text": [
      "C:\\Apps-SU\\Anaconda3\\envs\\geostats_env\\lib\\site-packages\\ipykernel_launcher.py:2: RuntimeWarning: overflow encountered in multiply\n",
      "  \n"
     ]
    }
   ],
   "source": [
    "#Task 2: \n",
    "dem_feet = dem_data*3.281"
   ]
  },
  {
   "cell_type": "code",
   "execution_count": 23,
   "metadata": {},
   "outputs": [
    {
     "data": {
      "text/plain": [
       "(-inf, 6848.8574)"
      ]
     },
     "execution_count": 23,
     "metadata": {},
     "output_type": "execute_result"
    }
   ],
   "source": [
    "#View values:\n",
    "dem_feet.min(), dem_feet.max()"
   ]
  },
  {
   "cell_type": "markdown",
   "metadata": {},
   "source": [
    "Here, -np.inf represents an invalid data which should be assigned a no-data value. We can create a no-data mask using our virtual data as well."
   ]
  },
  {
   "cell_type": "code",
   "execution_count": 24,
   "metadata": {},
   "outputs": [
    {
     "data": {
      "text/plain": [
       "masked_array(\n",
       "  data=[[--, --, --, ..., 5563.36181640625, 5562.67236328125,\n",
       "         5562.70556640625],\n",
       "        [--, --, --, ..., 5563.26318359375, 5563.06640625,\n",
       "         5562.47607421875],\n",
       "        [--, --, --, ..., 5562.54150390625, 5562.73828125,\n",
       "         5562.5087890625],\n",
       "        ...,\n",
       "        [--, --, --, ..., 5516.8369140625, 5516.640625, 5516.18115234375],\n",
       "        [--, --, --, ..., 5517.72314453125, 5517.23095703125,\n",
       "         5517.19775390625],\n",
       "        [--, --, --, ..., 5518.28076171875, 5518.01806640625,\n",
       "         5517.78857421875]],\n",
       "  mask=[[ True,  True,  True, ..., False, False, False],\n",
       "        [ True,  True,  True, ..., False, False, False],\n",
       "        [ True,  True,  True, ..., False, False, False],\n",
       "        ...,\n",
       "        [ True,  True,  True, ..., False, False, False],\n",
       "        [ True,  True,  True, ..., False, False, False],\n",
       "        [ True,  True,  True, ..., False, False, False]],\n",
       "  fill_value=1e+20,\n",
       "  dtype=float32)"
      ]
     },
     "execution_count": 24,
     "metadata": {},
     "output_type": "execute_result"
    }
   ],
   "source": [
    "#Mask out negative infinity\n",
    "dem_feet_ma = np.ma.masked_where(dem_feet == -np.inf,\n",
    "                                        dem_feet,\n",
    "                                        copy=True)#creating a copy\n",
    "dem_feet_ma"
   ]
  },
  {
   "cell_type": "markdown",
   "metadata": {},
   "source": [
    "### TASK 3: How could we read in dem_data with a mask so that we don't have to remove the -np.inf values? See code above."
   ]
  },
  {
   "cell_type": "code",
   "execution_count": 27,
   "metadata": {},
   "outputs": [
    {
     "name": "stderr",
     "output_type": "stream",
     "text": [
      "C:\\Apps-SU\\Anaconda3\\envs\\geostats_env\\lib\\site-packages\\ipykernel_launcher.py:8: RuntimeWarning: overflow encountered in multiply\n",
      "  \n"
     ]
    },
    {
     "data": {
      "text/plain": [
       "(5499.6445, 6848.8574)"
      ]
     },
     "execution_count": 27,
     "metadata": {},
     "output_type": "execute_result"
    }
   ],
   "source": [
    "#Task 3:\n",
    "# read in raw dem data and metadata through raster connection\n",
    "with rio.open(dem_pre_path) as dem_src:\n",
    "    dem_data = dem_src.read(1)\n",
    "    dem_meta = dem_src.profile\n",
    "    \n",
    "# use dem_data to create dem_feet_ma\n",
    "dem_feet = dem_data*3.281\n",
    "dem_feet_ma = np.ma.masked_where(dem_feet == -np.inf,\n",
    "                                        dem_feet,\n",
    "                                        copy=True)#creating a copy\n",
    "\n",
    "# print out min and max values\n",
    "dem_feet_ma.min(), dem_feet_ma.max()"
   ]
  },
  {
   "cell_type": "code",
   "execution_count": 28,
   "metadata": {},
   "outputs": [
    {
     "data": {
      "image/png": "[encoded data removed]",
      "text/plain": [
       "<Figure size 432x432 with 2 Axes>"
      ]
     },
     "metadata": {
      "needs_background": "light"
     },
     "output_type": "display_data"
    }
   ],
   "source": [
    "# plot the masked data to make sure it makes sense:\n",
    "fig, ax = plt.subplots(figsize=(6, 6))\n",
    "\n",
    "ep.plot_bands(dem_feet_ma,\n",
    "              cmap='Greys',\n",
    "              title=\"DEM (feet)\",\n",
    "              scale=False,\n",
    "              ax=ax)\n",
    "ax.set_axis_off()\n",
    "plt.show()"
   ]
  },
  {
   "cell_type": "markdown",
   "metadata": {},
   "source": [
    "You can also reclassify your data and convert your continous raster into a categorical raster. For example, say that the elevation for permanent standing water in this region was 5642 feet. How could you create a map of just water extents based on the DEM?"
   ]
  },
  {
   "cell_type": "code",
   "execution_count": 31,
   "metadata": {},
   "outputs": [],
   "source": [
    "# First, define bins that you want, and then classify the data\n",
    "class_bins =[dem_feet.min(),5642,  np.inf]"
   ]
  },
  {
   "cell_type": "code",
   "execution_count": 32,
   "metadata": {},
   "outputs": [],
   "source": [
    "# The np.digitize will create numeric cateogirles based on your class bins.\n",
    "dem_waterline = np.digitize(dem_feet, class_bins)"
   ]
  },
  {
   "cell_type": "code",
   "execution_count": 33,
   "metadata": {},
   "outputs": [
    {
     "name": "stdout",
     "output_type": "stream",
     "text": [
      "[1 2]\n"
     ]
    }
   ],
   "source": [
    "# Note that you have an extra class in the data (0)\n",
    "print(np.unique(dem_waterline))"
   ]
  },
  {
   "cell_type": "code",
   "execution_count": 34,
   "metadata": {},
   "outputs": [
    {
     "data": {
      "image/png": "[encoded data removed]",
      "text/plain": [
       "<Figure size 432x432 with 2 Axes>"
      ]
     },
     "metadata": {
      "needs_background": "light"
     },
     "output_type": "display_data"
    }
   ],
   "source": [
    "# Plot newly classified and masked raster\n",
    "fig, ax = plt.subplots(figsize=(6,6))\n",
    "ep.plot_bands(dem_waterline,\n",
    "               ax=ax,\n",
    "               scale=False)\n",
    "plt.show()"
   ]
  },
  {
   "cell_type": "markdown",
   "metadata": {},
   "source": [
    "### Here, we've ended up with three classified values. \n",
    "* 0 represents what was previously no data or masked regions of the raster, \n",
    "* 1 represents water, and \n",
    "* 2 represents land.\n",
    "\n",
    "Often in raster manipulation, we want to use certain criteria to mask out raster data. Examples could include multiplying a multispectral satelite image by a cloud mask, or multiplying a SAR image by a terrain shadow mask. In this case, the \"masks\" that we're using represent seperate rasters that have been designed to tell us where we expect there to be limited information content in our raster. These \"mask\" layers have values of 1 for each pixel that we want to keep, and a no-data value for all other pixels. When you multiply the raster data by the mask, all the pixels that we want to keep are unchanged (value x 1 = value), and the pixels that we want to discard are converted to no-data (value x no-data = no-data)."
   ]
  },
  {
   "cell_type": "markdown",
   "metadata": {},
   "source": [
    "### TASK 4: DEMs based on LiDAR will be inaccurate under standing water. Use your dem_waterline raster to create a \"water_mask\" for your DEM. This will be a raster with values of \"1\" where there is standing water, and no value everywhere else. Plot your water_mask."
   ]
  },
  {
   "cell_type": "code",
   "execution_count": 36,
   "metadata": {},
   "outputs": [
    {
     "ename": "SyntaxError",
     "evalue": "invalid syntax (Temp/ipykernel_1460/1186295538.py, line 2)",
     "output_type": "error",
     "traceback": [
      "\u001b[1;36m  File \u001b[1;32m\"C:\\Users\\mabranno\\AppData\\Local\\Temp/ipykernel_1460/1186295538.py\"\u001b[1;36m, line \u001b[1;32m2\u001b[0m\n\u001b[1;33m    dem_waterline_ma = np.ma.masked_where(dem_waterline == -np.2,\u001b[0m\n\u001b[1;37m                                                               ^\u001b[0m\n\u001b[1;31mSyntaxError\u001b[0m\u001b[1;31m:\u001b[0m invalid syntax\n"
     ]
    }
   ],
   "source": [
    "# Task 4: create water_mask\n",
    "dem_waterline_ma = np.ma.masked_where(dem_waterline == -np.2,\n",
    "                                        dem_waterline,\n",
    "                                        copy=True)#creating a copy"
   ]
  },
  {
   "cell_type": "code",
   "execution_count": null,
   "metadata": {},
   "outputs": [],
   "source": [
    "# Task 4: plot water_mask\n"
   ]
  },
  {
   "cell_type": "markdown",
   "metadata": {},
   "source": [
    "### TASK 5: Use your water mask to \"mask\" all regions in your DEM that are underwater. Print out the minimum and maximum values and plot your masked DEM."
   ]
  },
  {
   "cell_type": "code",
   "execution_count": null,
   "metadata": {},
   "outputs": [],
   "source": [
    "#Task 5 create water_masked_DEM:\n"
   ]
  },
  {
   "cell_type": "code",
   "execution_count": null,
   "metadata": {},
   "outputs": [],
   "source": [
    "#Task 5 print min and max:\n"
   ]
  },
  {
   "cell_type": "code",
   "execution_count": null,
   "metadata": {},
   "outputs": [],
   "source": [
    "#Task 5 plot water_masked_DEM\n"
   ]
  },
  {
   "cell_type": "markdown",
   "metadata": {},
   "source": [
    "## Imagery - Another Type of Raster Data\n",
    "Another type of raster data that you may see is imagery. If you have used Google Maps or another mapping tool that has an imagery layer, you are looking at raster data. You can open and plot imagery data using Python as well.\n",
    "\n",
    "Below you download and open up some NAIP data that were collected before and after a fire that occured close to Nederland, Colorado.\n",
    "\n",
    "Data Tip: NAIP data is imagery collected by the United States Department of Agriculture every 2 years across the United States. Learn more about NAIP data in this chapter of the earth data science intermediate textbook: https://www.earthdatascience.org/courses/use-data-open-source-python/multispectral-remote-sensing/intro-naip/"
   ]
  },
  {
   "cell_type": "code",
   "execution_count": null,
   "metadata": {},
   "outputs": [],
   "source": [
    "# Download NAIP data\n",
    "et.data.get_data(url=\"https://ndownloader.figshare.com/files/23070791\")\n"
   ]
  },
  {
   "cell_type": "code",
   "execution_count": null,
   "metadata": {},
   "outputs": [],
   "source": [
    "# Create a path for the data file - notice it is a .tif file\n",
    "naip_pre_fire_path = os.path.join(\"earthpy-downloads\",\n",
    "                                  \"naip-before-after\",\n",
    "                                  \"pre-fire\",\n",
    "                                  \"crop\",\n",
    "                                  \"m_3910505_nw_13_1_20150919_crop.tif\")\n",
    "\n",
    "naip_pre_fire_path"
   ]
  },
  {
   "cell_type": "code",
   "execution_count": null,
   "metadata": {},
   "outputs": [],
   "source": [
    "# Open the data using rasterio\n",
    "with rio.open(naip_pre_fire_path) as naip_prefire_src:\n",
    "    naip_pre_fire = naip_prefire_src.read()\n",
    "\n",
    "naip_pre_fire"
   ]
  },
  {
   "cell_type": "markdown",
   "metadata": {},
   "source": [
    "### TASK 6: Read in and print the image metadata."
   ]
  },
  {
   "cell_type": "code",
   "execution_count": null,
   "metadata": {},
   "outputs": [],
   "source": [
    "# Task 6:\n"
   ]
  },
  {
   "cell_type": "markdown",
   "metadata": {},
   "source": [
    "Plotting imagery is a bit different because imagery is composed of multiple bands. While we won’t get into the specifics of bands and images in this lesson, you can see below that an image is composed of multiple layers of information.\n",
    "\n",
    "You can plot each band individually as you see below using plot_bands(). Or you can plot a color image, similar to the image that your camera stores when you take a picture."
   ]
  },
  {
   "cell_type": "code",
   "execution_count": null,
   "metadata": {},
   "outputs": [],
   "source": [
    "# Plot each layer or band of the image separately\n",
    "ep.plot_bands(naip_pre_fire, figsize=(10, 5))\n",
    "plt.show()"
   ]
  },
  {
   "cell_type": "code",
   "execution_count": null,
   "metadata": {},
   "outputs": [],
   "source": [
    "# Plot of all NAIP Data Bands using earthpy plot_bands()\n",
    "# Plot color image\n",
    "ep.plot_rgb(naip_pre_fire,\n",
    "            title=\"naip data pre-fire\")\n",
    "plt.show()"
   ]
  },
  {
   "cell_type": "markdown",
   "metadata": {},
   "source": [
    "### TASK 6: Calculate NDVI \n",
    "The normalized difference vegetation index is a metric of vegetation health calculated from the red and near infared bands of multispectral imagery.\n",
    "\n",
    "```\n",
    "NDVI = (NIR – Red) / (NIR + Red)\n",
    "```\n",
    "\n",
    "Create a new raster called NDVI_pre that calculates the NDVI in the pre-fire image. Make a plot of NDVI_pre."
   ]
  },
  {
   "cell_type": "code",
   "execution_count": 30,
   "metadata": {},
   "outputs": [
    {
     "ename": "NameError",
     "evalue": "name 'naip_pre_fire' is not defined",
     "output_type": "error",
     "traceback": [
      "\u001b[1;31m---------------------------------------------------------------------------\u001b[0m",
      "\u001b[1;31mNameError\u001b[0m                                 Traceback (most recent call last)",
      "\u001b[1;32m~\\AppData\\Local\\Temp/ipykernel_1460/2022360180.py\u001b[0m in \u001b[0;36m<module>\u001b[1;34m\u001b[0m\n\u001b[1;32m----> 1\u001b[1;33m \u001b[0mred_pre_fire\u001b[0m\u001b[1;33m=\u001b[0m\u001b[0mnaip_pre_fire\u001b[0m\u001b[1;33m[\u001b[0m\u001b[1;36m0\u001b[0m\u001b[1;33m]\u001b[0m\u001b[1;33m\u001b[0m\u001b[1;33m\u001b[0m\u001b[0m\n\u001b[0m\u001b[0;32m      2\u001b[0m \u001b[0mNIR_pre_fire\u001b[0m\u001b[1;33m=\u001b[0m\u001b[0mnaip_pre_fire\u001b[0m\u001b[1;33m[\u001b[0m\u001b[1;36m3\u001b[0m\u001b[1;33m]\u001b[0m\u001b[1;33m\u001b[0m\u001b[1;33m\u001b[0m\u001b[0m\n\u001b[0;32m      3\u001b[0m \u001b[1;33m\u001b[0m\u001b[0m\n\u001b[0;32m      4\u001b[0m \u001b[1;31m# Task 6: create NDVI_pre\u001b[0m\u001b[1;33m\u001b[0m\u001b[1;33m\u001b[0m\u001b[1;33m\u001b[0m\u001b[0m\n\u001b[0;32m      5\u001b[0m \u001b[1;33m\u001b[0m\u001b[0m\n",
      "\u001b[1;31mNameError\u001b[0m: name 'naip_pre_fire' is not defined"
     ]
    }
   ],
   "source": [
    "red_pre_fire=naip_pre_fire[0]\n",
    "NIR_pre_fire=naip_pre_fire[3]\n",
    "\n",
    "# Task 6: create NDVI_pre\n",
    "\n",
    "NDVI_pre = (NIR_pre_fire-red_pre_fire)/(NIR_pre_fire+red_pre_fire)"
   ]
  },
  {
   "cell_type": "code",
   "execution_count": null,
   "metadata": {},
   "outputs": [],
   "source": [
    "#Task 6: plot NDVI_pre\n"
   ]
  },
  {
   "cell_type": "markdown",
   "metadata": {},
   "source": [
    "### TASK 7: Plot post-fire data\n",
    "In the code below, you see a path to a NAIP imagery of the region in Colorado that was collected after the fire in Colorado. Use that path to:\n",
    "\n",
    "1. Open the post fire data\n",
    "2. Plot a color version of data using plot_rgb()\n"
   ]
  },
  {
   "cell_type": "code",
   "execution_count": null,
   "metadata": {},
   "outputs": [],
   "source": [
    "# Add the code here to open the raster and read the numpy array inside it\n",
    "# Create a path for the data file - notice it is a .tif file\n",
    "naip_post_fire_path = os.path.join(\"earthpy-downloads\",\n",
    "                                   \"naip-before-after\",\n",
    "                                   \"post-fire\",\n",
    "                                   \"crop\",\n",
    "                                   \"m_3910505_nw_13_1_20170902_crop.tif\")\n",
    "\n",
    "# Task 7: open naip_post_fire\n",
    "\n",
    "\n",
    "# Task 7: plot naip_post_fire\n"
   ]
  },
  {
   "cell_type": "markdown",
   "metadata": {},
   "source": [
    "### TASK 8: Fire kills vegetaion. Make a map showing fire damage by comparing NDVI_pre fire with an NDVI_post fire:"
   ]
  },
  {
   "cell_type": "code",
   "execution_count": null,
   "metadata": {},
   "outputs": [],
   "source": [
    "# Task 8: create NDVI_post\n",
    "\n",
    "# Task 8: map change in NDVI\n"
   ]
  },
  {
   "cell_type": "code",
   "execution_count": null,
   "metadata": {},
   "outputs": [],
   "source": []
  }
 ],
 "metadata": {
  "kernelspec": {
   "display_name": "Python 3 (ipykernel)",
   "language": "python",
   "name": "python3"
  },
  "language_info": {
   "codemirror_mode": {
    "name": "ipython",
    "version": 3
   },
   "file_extension": ".py",
   "mimetype": "text/x-python",
   "name": "python",
   "nbconvert_exporter": "python",
   "pygments_lexer": "ipython3",
   "version": "3.7.11"
  }
 },
 "nbformat": 4,
 "nbformat_minor": 4
}
